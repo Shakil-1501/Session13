{
 "cells": [
  {
   "cell_type": "code",
   "execution_count": 1,
   "metadata": {
    "ExecuteTime": {
     "end_time": "2020-11-03T12:57:46.059811Z",
     "start_time": "2020-11-03T12:57:45.884648Z"
    }
   },
   "outputs": [],
   "source": [
    "from Objective1 import  *"
   ]
  },
  {
   "cell_type": "code",
   "execution_count": 2,
   "metadata": {
    "ExecuteTime": {
     "end_time": "2020-11-03T12:57:48.184903Z",
     "start_time": "2020-11-03T12:57:48.053763Z"
    }
   },
   "outputs": [
    {
     "name": "stdout",
     "output_type": "stream",
     "text": [
      "4\n"
     ]
    }
   ],
   "source": [
    "a=Polygon(4,5)\n",
    "print(a.edges)"
   ]
  },
  {
   "cell_type": "code",
   "execution_count": 3,
   "metadata": {
    "ExecuteTime": {
     "end_time": "2020-11-03T12:57:49.693038Z",
     "start_time": "2020-11-03T12:57:49.559750Z"
    }
   },
   "outputs": [
    {
     "data": {
      "text/plain": [
       "'Polygon(4,5)'"
      ]
     },
     "execution_count": 3,
     "metadata": {},
     "output_type": "execute_result"
    }
   ],
   "source": [
    "a.__repr__()"
   ]
  },
  {
   "cell_type": "code",
   "execution_count": 4,
   "metadata": {
    "ExecuteTime": {
     "end_time": "2020-11-03T12:57:51.013349Z",
     "start_time": "2020-11-03T12:57:50.878423Z"
    }
   },
   "outputs": [
    {
     "data": {
      "text/plain": [
       "False"
      ]
     },
     "execution_count": 4,
     "metadata": {},
     "output_type": "execute_result"
    }
   ],
   "source": [
    "b=Polygon(6,5)\n",
    "a.__gt__(b)"
   ]
  },
  {
   "cell_type": "code",
   "execution_count": 5,
   "metadata": {
    "ExecuteTime": {
     "end_time": "2020-11-03T12:57:52.484728Z",
     "start_time": "2020-11-03T12:57:52.358821Z"
    }
   },
   "outputs": [
    {
     "data": {
      "text/plain": [
       "True"
      ]
     },
     "execution_count": 5,
     "metadata": {},
     "output_type": "execute_result"
    }
   ],
   "source": [
    "c=Polygon(4,5)\n",
    "a.__eq__(c)"
   ]
  },
  {
   "cell_type": "code",
   "execution_count": 6,
   "metadata": {
    "ExecuteTime": {
     "end_time": "2020-11-03T12:57:53.562124Z",
     "start_time": "2020-11-03T12:57:53.433203Z"
    }
   },
   "outputs": [
    {
     "data": {
      "text/plain": [
       "90.0"
      ]
     },
     "execution_count": 6,
     "metadata": {},
     "output_type": "execute_result"
    }
   ],
   "source": [
    "a.interiorangle"
   ]
  },
  {
   "cell_type": "code",
   "execution_count": 7,
   "metadata": {
    "ExecuteTime": {
     "end_time": "2020-11-03T12:57:54.543077Z",
     "start_time": "2020-11-03T12:57:54.412171Z"
    }
   },
   "outputs": [
    {
     "data": {
      "text/plain": [
       "7.0710678118654755"
      ]
     },
     "execution_count": 7,
     "metadata": {},
     "output_type": "execute_result"
    }
   ],
   "source": [
    "a.edgelength"
   ]
  },
  {
   "cell_type": "code",
   "execution_count": 8,
   "metadata": {
    "ExecuteTime": {
     "end_time": "2020-11-03T12:57:55.698245Z",
     "start_time": "2020-11-03T12:57:55.572316Z"
    }
   },
   "outputs": [
    {
     "data": {
      "text/plain": [
       "3.5355339059327378"
      ]
     },
     "execution_count": 8,
     "metadata": {},
     "output_type": "execute_result"
    }
   ],
   "source": [
    "a.apothem"
   ]
  },
  {
   "cell_type": "code",
   "execution_count": 9,
   "metadata": {
    "ExecuteTime": {
     "end_time": "2020-11-03T12:57:56.683589Z",
     "start_time": "2020-11-03T12:57:56.554665Z"
    }
   },
   "outputs": [
    {
     "data": {
      "text/plain": [
       "50.00000000000001"
      ]
     },
     "execution_count": 9,
     "metadata": {},
     "output_type": "execute_result"
    }
   ],
   "source": [
    "a.area"
   ]
  },
  {
   "cell_type": "code",
   "execution_count": 10,
   "metadata": {
    "ExecuteTime": {
     "end_time": "2020-11-03T12:57:58.117833Z",
     "start_time": "2020-11-03T12:57:57.982907Z"
    }
   },
   "outputs": [
    {
     "data": {
      "text/plain": [
       "28.284271247461902"
      ]
     },
     "execution_count": 10,
     "metadata": {},
     "output_type": "execute_result"
    }
   ],
   "source": [
    "a.perimeter"
   ]
  },
  {
   "cell_type": "markdown",
   "metadata": {},
   "source": [
    "# Objective2"
   ]
  },
  {
   "cell_type": "code",
   "execution_count": 28,
   "metadata": {
    "ExecuteTime": {
     "end_time": "2020-11-03T16:12:37.375110Z",
     "start_time": "2020-11-03T16:12:28.629878Z"
    }
   },
   "outputs": [],
   "source": [
    "from Objective2 import *"
   ]
  },
  {
   "cell_type": "code",
   "execution_count": 29,
   "metadata": {
    "ExecuteTime": {
     "end_time": "2020-11-03T16:12:43.605829Z",
     "start_time": "2020-11-03T16:12:43.256604Z"
    }
   },
   "outputs": [],
   "source": [
    "c=CustomerPolygon(2,3,4,5,6,7,8,9,10,11,12,13,14,15,16,17,18,19,20,21,22,23,24,25,26)"
   ]
  },
  {
   "cell_type": "code",
   "execution_count": 30,
   "metadata": {
    "ExecuteTime": {
     "end_time": "2020-11-03T16:12:45.312402Z",
     "start_time": "2020-11-03T16:12:44.891608Z"
    }
   },
   "outputs": [
    {
     "data": {
      "text/plain": [
       "[3.061616997868383e-16,\n",
       " 2.5000000000000004,\n",
       " 3.5355339059327378,\n",
       " 4.045084971874737,\n",
       " 4.330127018922194,\n",
       " 4.504844339512096,\n",
       " 4.619397662556434,\n",
       " 4.698463103929543,\n",
       " 4.755282581475767,\n",
       " 4.7974648680724865,\n",
       " 4.8296291314453415,\n",
       " 4.85470908713026,\n",
       " 4.874639560909118,\n",
       " 4.8907380036690284,\n",
       " 4.903926402016152,\n",
       " 4.914865498419509,\n",
       " 4.92403876506104,\n",
       " 4.931806517013611,\n",
       " 4.938441702975689,\n",
       " 4.944154131125643,\n",
       " 4.949107209404663,\n",
       " 4.953429730181654,\n",
       " 4.957224306869052,\n",
       " 4.9605735065723895,\n",
       " 4.96354437049027]"
      ]
     },
     "execution_count": 30,
     "metadata": {},
     "output_type": "execute_result"
    }
   ],
   "source": [
    "c.apothem"
   ]
  },
  {
   "cell_type": "code",
   "execution_count": 31,
   "metadata": {
    "ExecuteTime": {
     "end_time": "2020-11-03T16:12:46.052914Z",
     "start_time": "2020-11-03T16:12:45.822463Z"
    }
   },
   "outputs": [
    {
     "data": {
      "text/plain": [
       "[10.0,\n",
       " 8.660254037844386,\n",
       " 7.0710678118654755,\n",
       " 5.877852522924732,\n",
       " 4.999999999999999,\n",
       " 4.3388373911755815,\n",
       " 3.826834323650898,\n",
       " 3.420201433256687,\n",
       " 3.090169943749474,\n",
       " 2.817325568414297,\n",
       " 2.5881904510252074,\n",
       " 2.3931566428755775,\n",
       " 2.225209339563144,\n",
       " 2.079116908177593,\n",
       " 1.9509032201612824,\n",
       " 1.8374951781657034,\n",
       " 1.7364817766693033,\n",
       " 1.6459459028073389,\n",
       " 1.5643446504023086,\n",
       " 1.4904226617617444,\n",
       " 1.4231483827328515,\n",
       " 1.3616664909624658,\n",
       " 1.3052619222005157,\n",
       " 1.2533323356430426,\n",
       " 1.2053668025532305]"
      ]
     },
     "execution_count": 31,
     "metadata": {},
     "output_type": "execute_result"
    }
   ],
   "source": [
    "c.edgelength"
   ]
  },
  {
   "cell_type": "code",
   "execution_count": 32,
   "metadata": {
    "ExecuteTime": {
     "end_time": "2020-11-03T16:12:47.282547Z",
     "start_time": "2020-11-03T16:12:47.133738Z"
    }
   },
   "outputs": [
    {
     "data": {
      "text/plain": [
       "[3.061616997868383e-15,\n",
       " 32.47595264191645,\n",
       " 50.00000000000001,\n",
       " 59.44103226844711,\n",
       " 64.95190528383289,\n",
       " 68.41025471595262,\n",
       " 70.71067811865476,\n",
       " 72.31360608973567,\n",
       " 73.47315653655913,\n",
       " 74.33811240014467,\n",
       " 75.0,\n",
       " 75.51751545711238,\n",
       " 75.92965434557267,\n",
       " 76.26312057671254,\n",
       " 76.53668647301794,\n",
       " 76.76385406477,\n",
       " 76.95453224827544,\n",
       " 77.11612393611232,\n",
       " 77.25424859373686,\n",
       " 77.37323328286236,\n",
       " 77.47645313139317,\n",
       " 77.56657170764447,\n",
       " 77.64571353075621,\n",
       " 77.71558973901713,\n",
       " 77.77759089345628]"
      ]
     },
     "execution_count": 32,
     "metadata": {},
     "output_type": "execute_result"
    }
   ],
   "source": [
    "c.area"
   ]
  },
  {
   "cell_type": "code",
   "execution_count": 33,
   "metadata": {
    "ExecuteTime": {
     "end_time": "2020-11-03T16:12:48.122026Z",
     "start_time": "2020-11-03T16:12:47.967478Z"
    }
   },
   "outputs": [
    {
     "data": {
      "text/plain": [
       "[20.0,\n",
       " 25.980762113533157,\n",
       " 28.284271247461902,\n",
       " 29.38926261462366,\n",
       " 29.999999999999993,\n",
       " 30.37186173822907,\n",
       " 30.614674589207183,\n",
       " 30.781812899310182,\n",
       " 30.90169943749474,\n",
       " 30.990581252557266,\n",
       " 31.05828541230249,\n",
       " 31.111036357382506,\n",
       " 31.152930753884014,\n",
       " 31.186753622663897,\n",
       " 31.214451522580518,\n",
       " 31.237418028816958,\n",
       " 31.256671980047457,\n",
       " 31.27297215333944,\n",
       " 31.28689300804617,\n",
       " 31.298875896996634,\n",
       " 31.309264420122734,\n",
       " 31.318329292136713,\n",
       " 31.326286132812378,\n",
       " 31.333308391076066,\n",
       " 31.33953686638399]"
      ]
     },
     "execution_count": 33,
     "metadata": {},
     "output_type": "execute_result"
    }
   ],
   "source": [
    "c.perimeter"
   ]
  },
  {
   "cell_type": "code",
   "execution_count": 34,
   "metadata": {
    "ExecuteTime": {
     "end_time": "2020-11-03T16:12:52.542846Z",
     "start_time": "2020-11-03T16:12:52.357424Z"
    }
   },
   "outputs": [
    {
     "data": {
      "text/plain": [
       "24"
      ]
     },
     "execution_count": 34,
     "metadata": {},
     "output_type": "execute_result"
    }
   ],
   "source": [
    "c.maxefficiency"
   ]
  },
  {
   "cell_type": "code",
   "execution_count": 35,
   "metadata": {
    "ExecuteTime": {
     "end_time": "2020-11-03T16:12:54.442400Z",
     "start_time": "2020-11-03T16:12:54.281507Z"
    }
   },
   "outputs": [
    {
     "data": {
      "text/plain": [
       "25"
      ]
     },
     "execution_count": 35,
     "metadata": {},
     "output_type": "execute_result"
    }
   ],
   "source": [
    "c.__len__()"
   ]
  },
  {
   "cell_type": "code",
   "execution_count": 36,
   "metadata": {
    "ExecuteTime": {
     "end_time": "2020-11-03T16:12:55.892354Z",
     "start_time": "2020-11-03T16:12:55.752721Z"
    }
   },
   "outputs": [
    {
     "data": {
      "text/plain": [
       "3"
      ]
     },
     "execution_count": 36,
     "metadata": {},
     "output_type": "execute_result"
    }
   ],
   "source": [
    "c.__getitem__(1)"
   ]
  },
  {
   "cell_type": "code",
   "execution_count": 37,
   "metadata": {
    "ExecuteTime": {
     "end_time": "2020-11-03T16:12:58.247765Z",
     "start_time": "2020-11-03T16:12:57.475370Z"
    }
   },
   "outputs": [
    {
     "name": "stdout",
     "output_type": "stream",
     "text": [
      "2\n",
      "3\n",
      "4\n",
      "5\n",
      "6\n",
      "7\n",
      "8\n",
      "9\n",
      "10\n",
      "11\n",
      "12\n",
      "13\n",
      "14\n",
      "15\n",
      "16\n",
      "17\n",
      "18\n",
      "19\n",
      "20\n",
      "21\n",
      "22\n",
      "23\n",
      "24\n",
      "25\n",
      "26\n"
     ]
    }
   ],
   "source": [
    "for i in c:\n",
    "    print(i)"
   ]
  },
  {
   "cell_type": "code",
   "execution_count": null,
   "metadata": {},
   "outputs": [],
   "source": []
  }
 ],
 "metadata": {
  "kernelspec": {
   "display_name": "Python 3",
   "language": "python",
   "name": "python3"
  },
  "language_info": {
   "codemirror_mode": {
    "name": "ipython",
    "version": 3
   },
   "file_extension": ".py",
   "mimetype": "text/x-python",
   "name": "python",
   "nbconvert_exporter": "python",
   "pygments_lexer": "ipython3",
   "version": "3.5.6"
  },
  "latex_envs": {
   "LaTeX_envs_menu_present": true,
   "autoclose": false,
   "autocomplete": true,
   "bibliofile": "biblio.bib",
   "cite_by": "apalike",
   "current_citInitial": 1,
   "eqLabelWithNumbers": true,
   "eqNumInitial": 1,
   "hotkeys": {
    "equation": "Ctrl-E",
    "itemize": "Ctrl-I"
   },
   "labels_anchors": false,
   "latex_user_defs": false,
   "report_style_numbering": false,
   "user_envs_cfg": false
  }
 },
 "nbformat": 4,
 "nbformat_minor": 4
}
